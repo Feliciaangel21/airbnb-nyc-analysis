{
 "cells": [
  {
   "cell_type": "markdown",
   "id": "f50dca08-da17-4324-9353-23436d26f7f2",
   "metadata": {},
   "source": [
    "# **A/B Test Analysis of Airbnb NYC 2019: Entire Homes vs. Private Rooms**"
   ]
  },
  {
   "cell_type": "markdown",
   "id": "83d85826-f2a0-490a-963b-5944d6be958e",
   "metadata": {},
   "source": [
    "### **Introduction**\n",
    "\n",
    "Airbnb listings differ extensively in kind and availability. Two general categories are \"Entire home/apt\" and \"Private room.\" We would like to know whether providing an entire home results in substantially more guest activity than providing a private room."
   ]
  },
  {
   "cell_type": "markdown",
   "id": "c7047e91-7028-4612-b5bc-a5672576bab2",
   "metadata": {},
   "source": [
    "### **Poblem Statement**\n",
    "Does offering an “Entire home/apt” increase guest engagement (measured by number of reviews) compared to “Private room” listings?"
   ]
  },
  {
   "cell_type": "markdown",
   "id": "fe6581e2-f889-4c5c-9726-172d3f203de3",
   "metadata": {},
   "source": [
    "### **Objective**\n",
    "- Primary: Compare average number of reviews between room types\n",
    "- Secondary: Summarize descriptive statistics and visualize differences"
   ]
  },
  {
   "cell_type": "markdown",
   "id": "ce04df12-c06a-47aa-bb9b-cbde9d3ad84b",
   "metadata": {},
   "source": [
    "### **Data Preprocessing**"
   ]
  },
  {
   "cell_type": "code",
   "execution_count": 72,
   "id": "dce1e25f-bd1b-4ec2-acf4-42fff85591be",
   "metadata": {},
   "outputs": [
    {
     "name": "stdout",
     "output_type": "stream",
     "text": [
      "<class 'pandas.core.frame.DataFrame'>\n",
      "RangeIndex: 48895 entries, 0 to 48894\n",
      "Data columns (total 16 columns):\n",
      " #   Column                          Non-Null Count  Dtype  \n",
      "---  ------                          --------------  -----  \n",
      " 0   id                              48895 non-null  int64  \n",
      " 1   name                            48879 non-null  object \n",
      " 2   host_id                         48895 non-null  int64  \n",
      " 3   host_name                       48874 non-null  object \n",
      " 4   neighbourhood_group             48895 non-null  object \n",
      " 5   neighbourhood                   48895 non-null  object \n",
      " 6   latitude                        48895 non-null  float64\n",
      " 7   longitude                       48895 non-null  float64\n",
      " 8   room_type                       48895 non-null  object \n",
      " 9   price                           48895 non-null  int64  \n",
      " 10  minimum_nights                  48895 non-null  int64  \n",
      " 11  number_of_reviews               48895 non-null  int64  \n",
      " 12  last_review                     38843 non-null  object \n",
      " 13  reviews_per_month               38843 non-null  float64\n",
      " 14  calculated_host_listings_count  48895 non-null  int64  \n",
      " 15  availability_365                48895 non-null  int64  \n",
      "dtypes: float64(3), int64(7), object(6)\n",
      "memory usage: 6.0+ MB\n",
      "None\n",
      "     id                                              name  host_id  \\\n",
      "0  2539                Clean & quiet apt home by the park     2787   \n",
      "1  2595                             Skylit Midtown Castle     2845   \n",
      "2  3647               THE VILLAGE OF HARLEM....NEW YORK !     4632   \n",
      "3  3831                   Cozy Entire Floor of Brownstone     4869   \n",
      "4  5022  Entire Apt: Spacious Studio/Loft by central park     7192   \n",
      "\n",
      "     host_name neighbourhood_group neighbourhood  latitude  longitude  \\\n",
      "0         John            Brooklyn    Kensington  40.64749  -73.97237   \n",
      "1     Jennifer           Manhattan       Midtown  40.75362  -73.98377   \n",
      "2    Elisabeth           Manhattan        Harlem  40.80902  -73.94190   \n",
      "3  LisaRoxanne            Brooklyn  Clinton Hill  40.68514  -73.95976   \n",
      "4        Laura           Manhattan   East Harlem  40.79851  -73.94399   \n",
      "\n",
      "         room_type  price  minimum_nights  number_of_reviews last_review  \\\n",
      "0     Private room    149               1                  9  2018-10-19   \n",
      "1  Entire home/apt    225               1                 45  2019-05-21   \n",
      "2     Private room    150               3                  0         NaN   \n",
      "3  Entire home/apt     89               1                270  2019-07-05   \n",
      "4  Entire home/apt     80              10                  9  2018-11-19   \n",
      "\n",
      "   reviews_per_month  calculated_host_listings_count  availability_365  \n",
      "0               0.21                               6               365  \n",
      "1               0.38                               2               355  \n",
      "2                NaN                               1               365  \n",
      "3               4.64                               1               194  \n",
      "4               0.10                               1                 0  \n"
     ]
    }
   ],
   "source": [
    "import pandas as pd\n",
    "\n",
    "# Load data\n",
    "df = pd.read_csv('AB_NYC_2019.csv')\n",
    "\n",
    "# Check structure\n",
    "print(df.info())\n",
    "print(df.head())"
   ]
  },
  {
   "cell_type": "code",
   "execution_count": 74,
   "id": "a88733b8-bc38-4f16-882d-460996e9f0ff",
   "metadata": {},
   "outputs": [
    {
     "name": "stdout",
     "output_type": "stream",
     "text": [
      "         count       mean        std  min  25%  50%   75%    max\n",
      "group                                                           \n",
      "A      22326.0  24.112962  47.286746  0.0  1.0  5.0  25.0  629.0\n",
      "B      25409.0  22.842418  42.408837  0.0  1.0  5.0  23.0  488.0\n"
     ]
    }
   ],
   "source": [
    "# Filter to keep only 'Entire home/apt' and 'Private room'\n",
    "df = df[df['room_type'].isin(['Entire home/apt', 'Private room'])]\n",
    "\n",
    "# Create group labels\n",
    "df['group'] = df['room_type'].apply(lambda x: 'B' if x == 'Entire home/apt' else 'A')\n",
    "\n",
    "print(df.groupby('group')['number_of_reviews'].describe())\n"
   ]
  },
  {
   "cell_type": "markdown",
   "id": "026f8d3e-2c4c-422e-9119-4a3df4c2f84a",
   "metadata": {},
   "source": [
    "### **Data Visualization**"
   ]
  },
  {
   "cell_type": "code",
   "execution_count": 77,
   "id": "550746e2-c926-40ff-8a7a-2bcbfaa26e6f",
   "metadata": {},
   "outputs": [
    {
     "data": {
      "image/png": "[encoded data removed]",
      "text/plain": [
       "<Figure size 640x480 with 1 Axes>"
      ]
     },
     "metadata": {},
     "output_type": "display_data"
    }
   ],
   "source": [
    "plt.hist(df[df['group'] == 'A']['number_of_reviews'], bins=30, alpha=0.5, label='Private Room (A)')\n",
    "plt.hist(df[df['group'] == 'B']['number_of_reviews'], bins=30, alpha=0.5, label='Entire Home/Apt (B)')\n",
    "\n",
    "plt.legend()\n",
    "plt.title('Distribution of Number of Reviews')\n",
    "plt.xlabel('Number of Reviews')\n",
    "plt.ylabel('Frequency')\n",
    "plt.show()"
   ]
  },
  {
   "cell_type": "code",
   "execution_count": 79,
   "id": "cd8485ea-8b28-422d-81e5-245dabb27103",
   "metadata": {},
   "outputs": [
    {
     "data": {
      "image/png": "[encoded data removed]",
      "text/plain": [
       "<Figure size 640x480 with 1 Axes>"
      ]
     },
     "metadata": {},
     "output_type": "display_data"
    }
   ],
   "source": [
    "mean_reviews = df.groupby('group')['number_of_reviews'].mean()\n",
    "\n",
    "mean_reviews.plot(kind='bar', color=['skyblue', 'orange'])\n",
    "plt.xticks(ticks=[0, 1], labels=['Private Room (A)', 'Entire Home/Apt (B)'], rotation=0)\n",
    "plt.ylabel('Average Number of Reviews')\n",
    "plt.title('Average Reviews by Group')\n",
    "plt.show()\n"
   ]
  },
  {
   "cell_type": "markdown",
   "id": "274df28c-6c3a-4169-ba1d-119a24574cad",
   "metadata": {},
   "source": [
    "#### Key observations from the plots:\n",
    "- Both Private Room and Entire Home/Apt listings  shows a similar, highly skewed distribution of review counts, with most listings receiving relatively few reviews and a long tail of listings with many reviews.\n",
    "- The average number of reviews appears slightly higher for Private Room (A) than for Entire Home/Apt (B) based on the bar chart.\n",
    "\n",
    "Despite an intuitive expectation that entire houses would receive more visitors and reviews, the data reveal otherwise: private rooms tend to have slightly more reviews on average.\n",
    "\n",
    "However, since the distribution is extremely skewed, this result could be affected by a few very active listings. A statistical test (e.g., t-test) would need to be conducted to determinenif this difference is statistically significant and not the result of random chance."
   ]
  },
  {
   "cell_type": "markdown",
   "id": "1c9b8cde-f2e1-4c7a-9ec4-3d194aa1ab71",
   "metadata": {},
   "source": [
    "### **Hypothesis Formulation**\n",
    "- Null Hypothesis (H0):\n",
    "Mean number of reviews for Entire home/apt = Mean number of reviews for Private room.\n",
    "- Alternative Hypothesis (H1):\n",
    "Mean number of reviews for Entire home/apt ≠ Mean number of reviews for Private room."
   ]
  },
  {
   "cell_type": "markdown",
   "id": "213d483c-a0d4-422d-b4a4-2da86d940c19",
   "metadata": {},
   "source": [
    "### **Statistical Testing**"
   ]
  },
  {
   "cell_type": "markdown",
   "id": "934bb602-9151-47c1-87e8-c58b4f1175b8",
   "metadata": {},
   "source": [
    "#### Decision rule:\n",
    "\n",
    "- If p-value < 0.05 ⇒ Statistically significant difference.\n",
    "- If p-value ≥ 0.05 ⇒ No significant difference."
   ]
  },
  {
   "cell_type": "code",
   "execution_count": 84,
   "id": "e0e93f36-17db-4c15-b9f2-1723d2c723b7",
   "metadata": {},
   "outputs": [
    {
     "name": "stdout",
     "output_type": "stream",
     "text": [
      "T-statistic: 3.0731, P-value: 0.0021\n"
     ]
    }
   ],
   "source": [
    "from scipy.stats import ttest_ind\n",
    "\n",
    "reviews_A = df[df['group'] == 'A']['number_of_reviews']\n",
    "reviews_B = df[df['group'] == 'B']['number_of_reviews']\n",
    "\n",
    "# Perform Welch’s t-test (doesn’t assume equal variance)\n",
    "t_stat, p_val = ttest_ind(reviews_A, reviews_B, equal_var=False)\n",
    "\n",
    "print(f\"T-statistic: {t_stat:.4f}, P-value: {p_val:.4f}\")\n"
   ]
  },
  {
   "cell_type": "markdown",
   "id": "a5605bb9-ae36-462c-9d07-e0afef5cd856",
   "metadata": {},
   "source": [
    "#### **Compute Lift**\n",
    "$$\n",
    "\\text{Lift} = \\frac{\\mu_B - \\mu_A}{\\mu_A} \\times 100\\%\n",
    "$$\n",
    "\n",
    "Where:\n",
    "\n",
    "* $\\mu_A$: Mean number of reviews in Group A (Private Room)\n",
    "* $\\mu_B$: Mean number of reviews in Group B (Entire Home/Apt)"
   ]
  },
  {
   "cell_type": "code",
   "execution_count": 100,
   "id": "3efa7972-3d3b-4793-bda9-a9346795f0b1",
   "metadata": {},
   "outputs": [
    {
     "name": "stdout",
     "output_type": "stream",
     "text": [
      "Average reviews (A - Private Room): 24.11\n",
      "Average reviews (B - Entire Home/Apt): 22.84\n",
      "Lift: -5.27%\n"
     ]
    }
   ],
   "source": [
    "mean_A = reviews_A.mean()\n",
    "mean_B = reviews_B.mean()\n",
    "\n",
    "lift = ((mean_B - mean_A) / mean_A) * 100\n",
    "\n",
    "print(f\"Average reviews (A - Private Room): {mean_A:.2f}\")\n",
    "print(f\"Average reviews (B - Entire Home/Apt): {mean_B:.2f}\")\n",
    "print(f\"Lift: {lift:.2f}%\")"
   ]
  },
  {
   "cell_type": "markdown",
   "id": "d6b67413-b39f-48c0-a9d7-084c52932c14",
   "metadata": {},
   "source": [
    "While the room type has a statistically detectable effect on review counts, the actual impact is minor in magnitude. This suggests that room type alone may not be the key driver of engagement, and that other factors, such as price, location, or guest demographics, could play a larger role in influencing review behavior."
   ]
  },
  {
   "cell_type": "markdown",
   "id": "42d81f4e-9f3c-4b2f-9aa2-c3d8bcaa6b5e",
   "metadata": {},
   "source": [
    "### **Conclusion**"
   ]
  },
  {
   "cell_type": "markdown",
   "id": "9005ad9f-212c-48fb-9bd7-d9c02cc11fa0",
   "metadata": {},
   "source": [
    "The A/B test conducted on the Airbnb NYC 2019 dataset aimed to compare guest engagement between \"Private Room\" and \"Entire Home/Apt\" listings, using the number of reviews as a proxy for engagement.\n",
    "\n",
    "The Welch’s t-test produced a **t-statistic of 3.0731 and a p-value of 0.0021**, indicating a statistically significant difference between the two groups at the 5% significance level.\n",
    "\n",
    "Interestingly, despite the common assumption that entire properties attract higher guest activity, the data reveals that **Private Room listings had a slightly higher average number of reviews than Entire Home/Apt listings**.\n",
    "\n",
    "**Key takeaway:**\n",
    "The difference is statistically significant and suggests that Private Room listings may engage guests more actively in leaving reviews — possibly due to traveler preferences or affordability factors unique to NYC.\n",
    "\n",
    "**Recommendation:**\n",
    "* Hosts offering Private Rooms could leverage this higher engagement when marketing their listings.\n",
    "\n",
    "\n"
   ]
  }
 ],
 "metadata": {
  "kernelspec": {
   "display_name": "Python [conda env:base] *",
   "language": "python",
   "name": "conda-base-py"
  },
  "language_info": {
   "codemirror_mode": {
    "name": "ipython",
    "version": 3
   },
   "file_extension": ".py",
   "mimetype": "text/x-python",
   "name": "python",
   "nbconvert_exporter": "python",
   "pygments_lexer": "ipython3",
   "version": "3.12.7"
  }
 },
 "nbformat": 4,
 "nbformat_minor": 5
}
